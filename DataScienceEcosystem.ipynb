{
 "cells": [
  {
   "cell_type": "markdown",
   "id": "6ff76344-b1ef-4f4c-8132-9cc4e0c65190",
   "metadata": {
    "tags": []
   },
   "source": [
    "# Data Science Tools and Ecosystem"
   ]
  },
  {
   "cell_type": "markdown",
   "id": "36cf1c0a-6361-496d-94d4-b9b9829e7309",
   "metadata": {},
   "source": [
    "In this notebook, Data Science Tools and Ecosystem are summarized."
   ]
  },
  {
   "cell_type": "markdown",
   "id": "e589b5d9-7cb2-46d8-8fa4-f704f92eb118",
   "metadata": {},
   "source": [
    "__Objectives:__"
   ]
  },
  {
   "cell_type": "markdown",
   "id": "d1346c64-82ed-4f2e-9370-e7029c5cd8b3",
   "metadata": {},
   "source": [
    "  * List popular languages for Data Science\n",
    "  * List popular tools for data science\n",
    "  * List some libraries for Data Science\n",
    "  * Write and excute a code that converts 200min into hours"
   ]
  },
  {
   "cell_type": "markdown",
   "id": "aa0e376a-bc5d-4874-962e-4b23f7a0f2ae",
   "metadata": {
    "tags": []
   },
   "source": [
    "Some of the popular languages that Data Scientists use are:"
   ]
  },
  {
   "cell_type": "markdown",
   "id": "544bf549-b952-4635-8c5b-2b96d4c9640a",
   "metadata": {},
   "source": [
    "1. Python\n",
    "2. R\n",
    "3. Julia\n",
    "4. Scala"
   ]
  },
  {
   "cell_type": "markdown",
   "id": "a691e134-cecd-463c-91c6-1a6eb4f67ae2",
   "metadata": {
    "tags": []
   },
   "source": [
    "Some of the commonly used libraries used by Data Scientists include:"
   ]
  },
  {
   "cell_type": "markdown",
   "id": "087b554d-1827-412f-96d9-e5245edb7862",
   "metadata": {},
   "source": [
    "1. Python libraries: as Pandas,Numpy and Scikit learn\n",
    "2. R libraries: as Ggplot2\n",
    "3. Scala libraries: as Vegas BigDL"
   ]
  },
  {
   "cell_type": "markdown",
   "id": "77efd3c6-4dc1-4e17-972b-8e272b0fa2a9",
   "metadata": {},
   "source": [
    "| Data science tools |\n",
    "|--------------------|\n",
    "| Jupyter Notebook   |\n",
    "| Visual Studio Code |\n",
    "| RStudio            |"
   ]
  },
  {
   "cell_type": "markdown",
   "id": "ecb33299-a589-4d7e-b22a-5c7555d550c4",
   "metadata": {},
   "source": [
    "### Below are a few examples of evaluating arithmetic expressions in Python"
   ]
  },
  {
   "cell_type": "code",
   "execution_count": 4,
   "id": "c6f9e115-cb68-436d-bb10-a402be299a98",
   "metadata": {
    "tags": []
   },
   "outputs": [
    {
     "data": {
      "text/plain": [
       "17"
      ]
     },
     "execution_count": 4,
     "metadata": {},
     "output_type": "execute_result"
    }
   ],
   "source": [
    "#This a simple arithmetic expression to mutiply then add integers\n",
    "(3*4)+5"
   ]
  },
  {
   "cell_type": "code",
   "execution_count": 7,
   "id": "fd024aea-1fcb-4620-ab90-58cb5a3f1568",
   "metadata": {
    "tags": []
   },
   "outputs": [
    {
     "name": "stdout",
     "output_type": "stream",
     "text": [
      "200  minutes equals to  3.3333333333333335 hours\n"
     ]
    }
   ],
   "source": [
    "# This will convert 200 minutes to hours by diving by 60\n",
    "x = 200 \n",
    "y = 200/60\n",
    "print(x, \" minutes equals to \", y, \"hours\")"
   ]
  },
  {
   "cell_type": "markdown",
   "id": "14a19386-67f5-4bd0-b3e9-e6a66c199dc9",
   "metadata": {},
   "source": [
    "## Author \n",
    "ZEHRAOUI Mazilda"
   ]
  },
  {
   "cell_type": "code",
   "execution_count": null,
   "id": "bb7ebee2-74d2-4a1f-99cf-2c6e3dc34e9b",
   "metadata": {},
   "outputs": [],
   "source": []
  }
 ],
 "metadata": {
  "kernelspec": {
   "display_name": "Python 3 (ipykernel)",
   "language": "python",
   "name": "python3"
  },
  "language_info": {
   "codemirror_mode": {
    "name": "ipython",
    "version": 3
   },
   "file_extension": ".py",
   "mimetype": "text/x-python",
   "name": "python",
   "nbconvert_exporter": "python",
   "pygments_lexer": "ipython3",
   "version": "3.11.5"
  }
 },
 "nbformat": 4,
 "nbformat_minor": 5
}
